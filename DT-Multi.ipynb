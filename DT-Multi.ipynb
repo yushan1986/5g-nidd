{
 "cells": [
  {
   "cell_type": "code",
   "execution_count": 151,
   "id": "35cd2640",
   "metadata": {},
   "outputs": [
    {
     "data": {
      "text/html": [
       "<div>\n",
       "<style scoped>\n",
       "    .dataframe tbody tr th:only-of-type {\n",
       "        vertical-align: middle;\n",
       "    }\n",
       "\n",
       "    .dataframe tbody tr th {\n",
       "        vertical-align: top;\n",
       "    }\n",
       "\n",
       "    .dataframe thead th {\n",
       "        text-align: right;\n",
       "    }\n",
       "</style>\n",
       "<table border=\"1\" class=\"dataframe\">\n",
       "  <thead>\n",
       "    <tr style=\"text-align: right;\">\n",
       "      <th></th>\n",
       "      <th>Load</th>\n",
       "      <th>SrcTCPBase</th>\n",
       "      <th>tcp</th>\n",
       "      <th>udp</th>\n",
       "      <th>RST</th>\n",
       "      <th>INT</th>\n",
       "      <th>sHops</th>\n",
       "      <th>dTtl</th>\n",
       "      <th>e s</th>\n",
       "      <th>Loss</th>\n",
       "      <th>SrcLoss</th>\n",
       "      <th>AckDat</th>\n",
       "      <th>TcpRtt</th>\n",
       "      <th>FIN</th>\n",
       "      <th>IdleTime</th>\n",
       "      <th>Attack Type</th>\n",
       "    </tr>\n",
       "  </thead>\n",
       "  <tbody>\n",
       "    <tr>\n",
       "      <th>0</th>\n",
       "      <td>0.0</td>\n",
       "      <td>NaN</td>\n",
       "      <td>0</td>\n",
       "      <td>1</td>\n",
       "      <td>0</td>\n",
       "      <td>0</td>\n",
       "      <td>0.0</td>\n",
       "      <td>63.0</td>\n",
       "      <td>0</td>\n",
       "      <td>0</td>\n",
       "      <td>0</td>\n",
       "      <td>0.0</td>\n",
       "      <td>0.0</td>\n",
       "      <td>0</td>\n",
       "      <td>1655716224</td>\n",
       "      <td>0</td>\n",
       "    </tr>\n",
       "    <tr>\n",
       "      <th>1</th>\n",
       "      <td>0.0</td>\n",
       "      <td>NaN</td>\n",
       "      <td>0</td>\n",
       "      <td>1</td>\n",
       "      <td>0</td>\n",
       "      <td>0</td>\n",
       "      <td>0.0</td>\n",
       "      <td>63.0</td>\n",
       "      <td>0</td>\n",
       "      <td>0</td>\n",
       "      <td>0</td>\n",
       "      <td>0.0</td>\n",
       "      <td>0.0</td>\n",
       "      <td>0</td>\n",
       "      <td>1655716224</td>\n",
       "      <td>0</td>\n",
       "    </tr>\n",
       "    <tr>\n",
       "      <th>2</th>\n",
       "      <td>0.0</td>\n",
       "      <td>NaN</td>\n",
       "      <td>0</td>\n",
       "      <td>1</td>\n",
       "      <td>0</td>\n",
       "      <td>0</td>\n",
       "      <td>0.0</td>\n",
       "      <td>63.0</td>\n",
       "      <td>0</td>\n",
       "      <td>0</td>\n",
       "      <td>0</td>\n",
       "      <td>0.0</td>\n",
       "      <td>0.0</td>\n",
       "      <td>0</td>\n",
       "      <td>1655716224</td>\n",
       "      <td>0</td>\n",
       "    </tr>\n",
       "    <tr>\n",
       "      <th>3</th>\n",
       "      <td>0.0</td>\n",
       "      <td>NaN</td>\n",
       "      <td>0</td>\n",
       "      <td>1</td>\n",
       "      <td>0</td>\n",
       "      <td>0</td>\n",
       "      <td>0.0</td>\n",
       "      <td>63.0</td>\n",
       "      <td>0</td>\n",
       "      <td>0</td>\n",
       "      <td>0</td>\n",
       "      <td>0.0</td>\n",
       "      <td>0.0</td>\n",
       "      <td>0</td>\n",
       "      <td>1655716224</td>\n",
       "      <td>0</td>\n",
       "    </tr>\n",
       "    <tr>\n",
       "      <th>4</th>\n",
       "      <td>0.0</td>\n",
       "      <td>NaN</td>\n",
       "      <td>0</td>\n",
       "      <td>0</td>\n",
       "      <td>0</td>\n",
       "      <td>0</td>\n",
       "      <td>6.0</td>\n",
       "      <td>64.0</td>\n",
       "      <td>0</td>\n",
       "      <td>0</td>\n",
       "      <td>0</td>\n",
       "      <td>0.0</td>\n",
       "      <td>0.0</td>\n",
       "      <td>0</td>\n",
       "      <td>1655716224</td>\n",
       "      <td>0</td>\n",
       "    </tr>\n",
       "  </tbody>\n",
       "</table>\n",
       "</div>"
      ],
      "text/plain": [
       "   Load  SrcTCPBase  tcp  udp  RST  INT  sHops  dTtl   e s        Loss  \\\n",
       "0   0.0         NaN    0    1    0    0    0.0  63.0           0     0   \n",
       "1   0.0         NaN    0    1    0    0    0.0  63.0           0     0   \n",
       "2   0.0         NaN    0    1    0    0    0.0  63.0           0     0   \n",
       "3   0.0         NaN    0    1    0    0    0.0  63.0           0     0   \n",
       "4   0.0         NaN    0    0    0    0    6.0  64.0           0     0   \n",
       "\n",
       "   SrcLoss  AckDat  TcpRtt  FIN    IdleTime  Attack Type  \n",
       "0        0     0.0     0.0    0  1655716224            0  \n",
       "1        0     0.0     0.0    0  1655716224            0  \n",
       "2        0     0.0     0.0    0  1655716224            0  \n",
       "3        0     0.0     0.0    0  1655716224            0  \n",
       "4        0     0.0     0.0    0  1655716224            0  "
      ]
     },
     "execution_count": 151,
     "metadata": {},
     "output_type": "execute_result"
    }
   ],
   "source": [
    "import pandas as pd\n",
    "import numpy as np\n",
    "import matplotlib.pyplot as plt\n",
    "df = pd.read_csv(r'/Users/sehan/Documents/Dataset/Multi_New/top_15_multi.csv')\n",
    "df.head()"
   ]
  },
  {
   "cell_type": "code",
   "execution_count": 152,
   "id": "697e9acf",
   "metadata": {},
   "outputs": [
    {
     "name": "stdout",
     "output_type": "stream",
     "text": [
      "                Load    SrcTCPBase  tcp  udp  RST  INT  sHops   dTtl  \\\n",
      "0       0.000000e+00  1.490814e+09    0    1    0    0    0.0   63.0   \n",
      "1       0.000000e+00  1.490814e+09    0    1    0    0    0.0   63.0   \n",
      "2       0.000000e+00  1.490814e+09    0    1    0    0    0.0   63.0   \n",
      "3       0.000000e+00  1.490814e+09    0    1    0    0    0.0   63.0   \n",
      "4       0.000000e+00  1.490814e+09    0    0    0    0    6.0   64.0   \n",
      "...              ...           ...  ...  ...  ...  ...    ...    ...   \n",
      "851199  8.619034e+06  1.490814e+09    0    1    0    0   11.0   64.0   \n",
      "851200  3.068197e+06  1.490814e+09    0    1    0    0   11.0   64.0   \n",
      "851201  3.064397e+04  1.490814e+09    0    1    0    0    0.0  117.0   \n",
      "851202  3.179072e+04  1.490814e+09    0    1    0    0    0.0  117.0   \n",
      "851203  5.227891e+05  1.490814e+09    0    1    0    0   11.0   64.0   \n",
      "\n",
      "         e s        Loss  SrcLoss  AckDat  TcpRtt  FIN    IdleTime  \\\n",
      "0                0     0        0     0.0     0.0    0  1655716224   \n",
      "1                0     0        0     0.0     0.0    0  1655716224   \n",
      "2                0     0        0     0.0     0.0    0  1655716224   \n",
      "3                0     0        0     0.0     0.0    0  1655716224   \n",
      "4                0     0        0     0.0     0.0    0  1655716224   \n",
      "...            ...   ...      ...     ...     ...  ...         ...   \n",
      "851199           0     0        0     0.0     0.0    0  1655725056   \n",
      "851200           0     0        0     0.0     0.0    0  1655725056   \n",
      "851201           0     0        0     0.0     0.0    0  1655725056   \n",
      "851202           0     0        0     0.0     0.0    0  1655725056   \n",
      "851203           0     0        0     0.0     0.0    0  1655725056   \n",
      "\n",
      "        Attack Type  \n",
      "0                 0  \n",
      "1                 0  \n",
      "2                 0  \n",
      "3                 0  \n",
      "4                 0  \n",
      "...             ...  \n",
      "851199            0  \n",
      "851200            0  \n",
      "851201            0  \n",
      "851202            0  \n",
      "851203            0  \n",
      "\n",
      "[851204 rows x 16 columns]\n"
     ]
    }
   ],
   "source": [
    "df = df.fillna(df.median())\n",
    "print(df)"
   ]
  },
  {
   "cell_type": "code",
   "execution_count": 153,
   "id": "6124311b",
   "metadata": {},
   "outputs": [],
   "source": [
    "X = df.iloc[:,0:14].values\n",
    "y = df.iloc[:,15].values"
   ]
  },
  {
   "cell_type": "code",
   "execution_count": 154,
   "id": "22476ce0",
   "metadata": {},
   "outputs": [],
   "source": [
    "#test and train split (30% for test)\n",
    "from sklearn.model_selection import train_test_split\n",
    "X_train, X_test, y_train, y_test = train_test_split(X, y, test_size = 0.30, random_state=0)"
   ]
  },
  {
   "cell_type": "code",
   "execution_count": 155,
   "id": "cdd370b6",
   "metadata": {},
   "outputs": [],
   "source": [
    "#data normalization\n",
    "from sklearn.preprocessing import StandardScaler\n",
    "scaler = StandardScaler()\n",
    "X_train = scaler.fit_transform(X_train)\n",
    "X_test = scaler.fit_transform(X_test)"
   ]
  },
  {
   "cell_type": "code",
   "execution_count": 156,
   "id": "c5fe237b",
   "metadata": {},
   "outputs": [
    {
     "name": "stdout",
     "output_type": "stream",
     "text": [
      "Training time: 4.671222925186157s\n"
     ]
    }
   ],
   "source": [
    "import time\n",
    "from sklearn import tree \n",
    "model = tree.DecisionTreeClassifier()\n",
    "start = time.time()\n",
    "model.fit(X_train, y_train)\n",
    "stop = time.time()\n",
    "print(f\"Training time: {stop - start}s\")"
   ]
  },
  {
   "cell_type": "code",
   "execution_count": 158,
   "id": "f9492dbf",
   "metadata": {},
   "outputs": [
    {
     "name": "stdout",
     "output_type": "stream",
     "text": [
      "Prediction time: 0.07710099220275879s\n"
     ]
    }
   ],
   "source": [
    "from sklearn.metrics import roc_auc_score\n",
    "start = time.time()\n",
    "y_pred = model.predict_proba(X_test)\n",
    "stop = time.time()\n",
    "y_pred\n",
    "print(f\"Prediction time: {stop - start}s\")"
   ]
  },
  {
   "cell_type": "code",
   "execution_count": 150,
   "id": "96aaaa07",
   "metadata": {},
   "outputs": [
    {
     "name": "stdout",
     "output_type": "stream",
     "text": [
      "[[ 9844   120     9     0     0     4     1]\n",
      " [    5  9692     0     0     0     2     0]\n",
      " [    0     0 67352     0     0     0     0]\n",
      " [    0   528     0 79323     0     0     0]\n",
      " [ 2841     0     0     0 43927     0     0]\n",
      " [   18     0     0     0     0 28664     0]\n",
      " [   16     0     0     0     0     0 13016]]\n",
      "              precision    recall  f1-score   support\n",
      "\n",
      "           0     0.7737    0.9866    0.8672      9978\n",
      "           1     0.9373    0.9993    0.9673      9699\n",
      "           2     0.9999    1.0000    0.9999     67352\n",
      "           3     1.0000    0.9934    0.9967     79851\n",
      "           4     1.0000    0.9393    0.9687     46768\n",
      "           5     0.9998    0.9994    0.9996     28682\n",
      "           6     0.9999    0.9988    0.9993     13032\n",
      "\n",
      "    accuracy                         0.9861    255362\n",
      "   macro avg     0.9587    0.9881    0.9713    255362\n",
      "weighted avg     0.9887    0.9861    0.9867    255362\n",
      "\n",
      "0.9861216625809635\n"
     ]
    }
   ],
   "source": [
    "from sklearn.metrics import classification_report, confusion_matrix, accuracy_score\n",
    "print(confusion_matrix(y_test, y_pred))\n",
    "print(classification_report(y_test, y_pred, digits=4))\n",
    "print(accuracy_score(y_test, y_pred))"
   ]
  },
  {
   "cell_type": "code",
   "execution_count": 159,
   "id": "86d1427c",
   "metadata": {},
   "outputs": [
    {
     "ename": "ValueError",
     "evalue": "multiclass format is not supported",
     "output_type": "error",
     "traceback": [
      "\u001b[0;31m---------------------------------------------------------------------------\u001b[0m",
      "\u001b[0;31mValueError\u001b[0m                                Traceback (most recent call last)",
      "\u001b[0;32m<ipython-input-159-f7d419f33728>\u001b[0m in \u001b[0;36m<module>\u001b[0;34m\u001b[0m\n\u001b[1;32m      1\u001b[0m \u001b[0;32mfrom\u001b[0m \u001b[0msklearn\u001b[0m\u001b[0;34m.\u001b[0m\u001b[0mmetrics\u001b[0m \u001b[0;32mimport\u001b[0m \u001b[0mroc_curve\u001b[0m\u001b[0;34m,\u001b[0m \u001b[0mauc\u001b[0m\u001b[0;34m\u001b[0m\u001b[0;34m\u001b[0m\u001b[0m\n\u001b[1;32m      2\u001b[0m \u001b[0;34m\u001b[0m\u001b[0m\n\u001b[0;32m----> 3\u001b[0;31m \u001b[0mmodel_fpr\u001b[0m\u001b[0;34m,\u001b[0m \u001b[0mmodel_tpr\u001b[0m\u001b[0;34m,\u001b[0m \u001b[0mthreshold\u001b[0m \u001b[0;34m=\u001b[0m \u001b[0mroc_curve\u001b[0m\u001b[0;34m(\u001b[0m\u001b[0my_test\u001b[0m\u001b[0;34m,\u001b[0m \u001b[0my_pred\u001b[0m\u001b[0;34m[\u001b[0m\u001b[0;34m:\u001b[0m\u001b[0;34m,\u001b[0m\u001b[0;36m1\u001b[0m\u001b[0;34m]\u001b[0m\u001b[0;34m)\u001b[0m\u001b[0;34m\u001b[0m\u001b[0;34m\u001b[0m\u001b[0m\n\u001b[0m\u001b[1;32m      4\u001b[0m \u001b[0mauc_model\u001b[0m \u001b[0;34m=\u001b[0m \u001b[0mauc\u001b[0m\u001b[0;34m(\u001b[0m\u001b[0mmodel_fpr\u001b[0m\u001b[0;34m,\u001b[0m \u001b[0mmodel_tpr\u001b[0m\u001b[0;34m)\u001b[0m\u001b[0;34m\u001b[0m\u001b[0;34m\u001b[0m\u001b[0m\n\u001b[1;32m      5\u001b[0m \u001b[0;34m\u001b[0m\u001b[0m\n",
      "\u001b[0;32m~/opt/anaconda3/lib/python3.8/site-packages/sklearn/utils/validation.py\u001b[0m in \u001b[0;36minner_f\u001b[0;34m(*args, **kwargs)\u001b[0m\n\u001b[1;32m     61\u001b[0m             \u001b[0mextra_args\u001b[0m \u001b[0;34m=\u001b[0m \u001b[0mlen\u001b[0m\u001b[0;34m(\u001b[0m\u001b[0margs\u001b[0m\u001b[0;34m)\u001b[0m \u001b[0;34m-\u001b[0m \u001b[0mlen\u001b[0m\u001b[0;34m(\u001b[0m\u001b[0mall_args\u001b[0m\u001b[0;34m)\u001b[0m\u001b[0;34m\u001b[0m\u001b[0;34m\u001b[0m\u001b[0m\n\u001b[1;32m     62\u001b[0m             \u001b[0;32mif\u001b[0m \u001b[0mextra_args\u001b[0m \u001b[0;34m<=\u001b[0m \u001b[0;36m0\u001b[0m\u001b[0;34m:\u001b[0m\u001b[0;34m\u001b[0m\u001b[0;34m\u001b[0m\u001b[0m\n\u001b[0;32m---> 63\u001b[0;31m                 \u001b[0;32mreturn\u001b[0m \u001b[0mf\u001b[0m\u001b[0;34m(\u001b[0m\u001b[0;34m*\u001b[0m\u001b[0margs\u001b[0m\u001b[0;34m,\u001b[0m \u001b[0;34m**\u001b[0m\u001b[0mkwargs\u001b[0m\u001b[0;34m)\u001b[0m\u001b[0;34m\u001b[0m\u001b[0;34m\u001b[0m\u001b[0m\n\u001b[0m\u001b[1;32m     64\u001b[0m \u001b[0;34m\u001b[0m\u001b[0m\n\u001b[1;32m     65\u001b[0m             \u001b[0;31m# extra_args > 0\u001b[0m\u001b[0;34m\u001b[0m\u001b[0;34m\u001b[0m\u001b[0;34m\u001b[0m\u001b[0m\n",
      "\u001b[0;32m~/opt/anaconda3/lib/python3.8/site-packages/sklearn/metrics/_ranking.py\u001b[0m in \u001b[0;36mroc_curve\u001b[0;34m(y_true, y_score, pos_label, sample_weight, drop_intermediate)\u001b[0m\n\u001b[1;32m    911\u001b[0m \u001b[0;34m\u001b[0m\u001b[0m\n\u001b[1;32m    912\u001b[0m     \"\"\"\n\u001b[0;32m--> 913\u001b[0;31m     fps, tps, thresholds = _binary_clf_curve(\n\u001b[0m\u001b[1;32m    914\u001b[0m         y_true, y_score, pos_label=pos_label, sample_weight=sample_weight)\n\u001b[1;32m    915\u001b[0m \u001b[0;34m\u001b[0m\u001b[0m\n",
      "\u001b[0;32m~/opt/anaconda3/lib/python3.8/site-packages/sklearn/metrics/_ranking.py\u001b[0m in \u001b[0;36m_binary_clf_curve\u001b[0;34m(y_true, y_score, pos_label, sample_weight)\u001b[0m\n\u001b[1;32m    689\u001b[0m     if not (y_type == \"binary\" or\n\u001b[1;32m    690\u001b[0m             (y_type == \"multiclass\" and pos_label is not None)):\n\u001b[0;32m--> 691\u001b[0;31m         \u001b[0;32mraise\u001b[0m \u001b[0mValueError\u001b[0m\u001b[0;34m(\u001b[0m\u001b[0;34m\"{0} format is not supported\"\u001b[0m\u001b[0;34m.\u001b[0m\u001b[0mformat\u001b[0m\u001b[0;34m(\u001b[0m\u001b[0my_type\u001b[0m\u001b[0;34m)\u001b[0m\u001b[0;34m)\u001b[0m\u001b[0;34m\u001b[0m\u001b[0;34m\u001b[0m\u001b[0m\n\u001b[0m\u001b[1;32m    692\u001b[0m \u001b[0;34m\u001b[0m\u001b[0m\n\u001b[1;32m    693\u001b[0m     \u001b[0mcheck_consistent_length\u001b[0m\u001b[0;34m(\u001b[0m\u001b[0my_true\u001b[0m\u001b[0;34m,\u001b[0m \u001b[0my_score\u001b[0m\u001b[0;34m,\u001b[0m \u001b[0msample_weight\u001b[0m\u001b[0;34m)\u001b[0m\u001b[0;34m\u001b[0m\u001b[0;34m\u001b[0m\u001b[0m\n",
      "\u001b[0;31mValueError\u001b[0m: multiclass format is not supported"
     ]
    }
   ],
   "source": [
    "from sklearn.metrics import roc_curve, auc\n",
    "\n",
    "model_fpr, model_tpr, threshold = roc_curve(y_test, y_pred[:,1])\n",
    "auc_model = auc(model_fpr, model_tpr)\n",
    "\n",
    "plt.figure(figsize=(5, 5), dpi=100)\n",
    "plt.plot(model_fpr, model_tpr, linestyle='-', label='DT (auc = %0.8f)' % auc_model)\n",
    "plt.plot([0, 1], [0, 1], color=\"darkorange\", lw=2, linestyle=\"--\")\n",
    "plt.xlabel('False Positive Rate')\n",
    "plt.ylabel('True Positive Rate')\n",
    "\n",
    "plt.legend()\n",
    "plt.show()"
   ]
  },
  {
   "cell_type": "code",
   "execution_count": null,
   "id": "2b077366",
   "metadata": {},
   "outputs": [],
   "source": []
  }
 ],
 "metadata": {
  "kernelspec": {
   "display_name": "Python 3",
   "language": "python",
   "name": "python3"
  },
  "language_info": {
   "codemirror_mode": {
    "name": "ipython",
    "version": 3
   },
   "file_extension": ".py",
   "mimetype": "text/x-python",
   "name": "python",
   "nbconvert_exporter": "python",
   "pygments_lexer": "ipython3",
   "version": "3.8.8"
  }
 },
 "nbformat": 4,
 "nbformat_minor": 5
}
