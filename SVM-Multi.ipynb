{
 "cells": [
  {
   "cell_type": "code",
   "execution_count": 1,
   "id": "e1860e9f",
   "metadata": {},
   "outputs": [],
   "source": [
    "import numpy as np\n",
    "import pandas as pd\n",
    "import matplotlib.pyplot as plt"
   ]
  },
  {
   "cell_type": "code",
   "execution_count": 2,
   "id": "8890f08e",
   "metadata": {},
   "outputs": [],
   "source": [
    "dataset = pd.read_csv(r'/Users/sehan/Documents/Dataset/Multi_New/top_25_multi.csv')"
   ]
  },
  {
   "cell_type": "code",
   "execution_count": 3,
   "id": "26852cf9",
   "metadata": {},
   "outputs": [
    {
     "data": {
      "text/html": [
       "<div>\n",
       "<style scoped>\n",
       "    .dataframe tbody tr th:only-of-type {\n",
       "        vertical-align: middle;\n",
       "    }\n",
       "\n",
       "    .dataframe tbody tr th {\n",
       "        vertical-align: top;\n",
       "    }\n",
       "\n",
       "    .dataframe thead th {\n",
       "        text-align: right;\n",
       "    }\n",
       "</style>\n",
       "<table border=\"1\" class=\"dataframe\">\n",
       "  <thead>\n",
       "    <tr style=\"text-align: right;\">\n",
       "      <th></th>\n",
       "      <th>Load</th>\n",
       "      <th>SrcTCPBase</th>\n",
       "      <th>tcp</th>\n",
       "      <th>udp</th>\n",
       "      <th>RST</th>\n",
       "      <th>INT</th>\n",
       "      <th>sHops</th>\n",
       "      <th>dTtl</th>\n",
       "      <th>e s</th>\n",
       "      <th>Loss</th>\n",
       "      <th>...</th>\n",
       "      <th>dMeanPktSz</th>\n",
       "      <th>ACC</th>\n",
       "      <th>dHops</th>\n",
       "      <th>SrcPkts</th>\n",
       "      <th>DstWin</th>\n",
       "      <th>TotBytes</th>\n",
       "      <th>e d</th>\n",
       "      <th>REQ</th>\n",
       "      <th>DstLoss</th>\n",
       "      <th>Attack Type</th>\n",
       "    </tr>\n",
       "  </thead>\n",
       "  <tbody>\n",
       "    <tr>\n",
       "      <th>0</th>\n",
       "      <td>0.0</td>\n",
       "      <td>NaN</td>\n",
       "      <td>0</td>\n",
       "      <td>1</td>\n",
       "      <td>0</td>\n",
       "      <td>0</td>\n",
       "      <td>0.0</td>\n",
       "      <td>63.0</td>\n",
       "      <td>0</td>\n",
       "      <td>0</td>\n",
       "      <td>...</td>\n",
       "      <td>154.0</td>\n",
       "      <td>0</td>\n",
       "      <td>1.0</td>\n",
       "      <td>1</td>\n",
       "      <td>NaN</td>\n",
       "      <td>243</td>\n",
       "      <td>0</td>\n",
       "      <td>0</td>\n",
       "      <td>0</td>\n",
       "      <td>0</td>\n",
       "    </tr>\n",
       "    <tr>\n",
       "      <th>1</th>\n",
       "      <td>0.0</td>\n",
       "      <td>NaN</td>\n",
       "      <td>0</td>\n",
       "      <td>1</td>\n",
       "      <td>0</td>\n",
       "      <td>0</td>\n",
       "      <td>0.0</td>\n",
       "      <td>63.0</td>\n",
       "      <td>0</td>\n",
       "      <td>0</td>\n",
       "      <td>...</td>\n",
       "      <td>154.0</td>\n",
       "      <td>0</td>\n",
       "      <td>1.0</td>\n",
       "      <td>1</td>\n",
       "      <td>NaN</td>\n",
       "      <td>243</td>\n",
       "      <td>0</td>\n",
       "      <td>0</td>\n",
       "      <td>0</td>\n",
       "      <td>0</td>\n",
       "    </tr>\n",
       "    <tr>\n",
       "      <th>2</th>\n",
       "      <td>0.0</td>\n",
       "      <td>NaN</td>\n",
       "      <td>0</td>\n",
       "      <td>1</td>\n",
       "      <td>0</td>\n",
       "      <td>0</td>\n",
       "      <td>0.0</td>\n",
       "      <td>63.0</td>\n",
       "      <td>0</td>\n",
       "      <td>0</td>\n",
       "      <td>...</td>\n",
       "      <td>264.0</td>\n",
       "      <td>0</td>\n",
       "      <td>1.0</td>\n",
       "      <td>1</td>\n",
       "      <td>NaN</td>\n",
       "      <td>340</td>\n",
       "      <td>0</td>\n",
       "      <td>0</td>\n",
       "      <td>0</td>\n",
       "      <td>0</td>\n",
       "    </tr>\n",
       "    <tr>\n",
       "      <th>3</th>\n",
       "      <td>0.0</td>\n",
       "      <td>NaN</td>\n",
       "      <td>0</td>\n",
       "      <td>1</td>\n",
       "      <td>0</td>\n",
       "      <td>0</td>\n",
       "      <td>0.0</td>\n",
       "      <td>63.0</td>\n",
       "      <td>0</td>\n",
       "      <td>0</td>\n",
       "      <td>...</td>\n",
       "      <td>141.0</td>\n",
       "      <td>0</td>\n",
       "      <td>1.0</td>\n",
       "      <td>1</td>\n",
       "      <td>NaN</td>\n",
       "      <td>217</td>\n",
       "      <td>0</td>\n",
       "      <td>0</td>\n",
       "      <td>0</td>\n",
       "      <td>0</td>\n",
       "    </tr>\n",
       "    <tr>\n",
       "      <th>4</th>\n",
       "      <td>0.0</td>\n",
       "      <td>NaN</td>\n",
       "      <td>0</td>\n",
       "      <td>0</td>\n",
       "      <td>0</td>\n",
       "      <td>0</td>\n",
       "      <td>6.0</td>\n",
       "      <td>64.0</td>\n",
       "      <td>0</td>\n",
       "      <td>0</td>\n",
       "      <td>...</td>\n",
       "      <td>98.0</td>\n",
       "      <td>0</td>\n",
       "      <td>0.0</td>\n",
       "      <td>1</td>\n",
       "      <td>NaN</td>\n",
       "      <td>200</td>\n",
       "      <td>0</td>\n",
       "      <td>0</td>\n",
       "      <td>0</td>\n",
       "      <td>0</td>\n",
       "    </tr>\n",
       "  </tbody>\n",
       "</table>\n",
       "<p>5 rows × 26 columns</p>\n",
       "</div>"
      ],
      "text/plain": [
       "   Load  SrcTCPBase  tcp  udp  RST  INT  sHops  dTtl   e s        Loss  ...  \\\n",
       "0   0.0         NaN    0    1    0    0    0.0  63.0           0     0  ...   \n",
       "1   0.0         NaN    0    1    0    0    0.0  63.0           0     0  ...   \n",
       "2   0.0         NaN    0    1    0    0    0.0  63.0           0     0  ...   \n",
       "3   0.0         NaN    0    1    0    0    0.0  63.0           0     0  ...   \n",
       "4   0.0         NaN    0    0    0    0    6.0  64.0           0     0  ...   \n",
       "\n",
       "   dMeanPktSz  ACC  dHops  SrcPkts  DstWin  TotBytes   e d        REQ  \\\n",
       "0       154.0    0    1.0        1     NaN       243           0    0   \n",
       "1       154.0    0    1.0        1     NaN       243           0    0   \n",
       "2       264.0    0    1.0        1     NaN       340           0    0   \n",
       "3       141.0    0    1.0        1     NaN       217           0    0   \n",
       "4        98.0    0    0.0        1     NaN       200           0    0   \n",
       "\n",
       "   DstLoss  Attack Type  \n",
       "0        0            0  \n",
       "1        0            0  \n",
       "2        0            0  \n",
       "3        0            0  \n",
       "4        0            0  \n",
       "\n",
       "[5 rows x 26 columns]"
      ]
     },
     "execution_count": 3,
     "metadata": {},
     "output_type": "execute_result"
    }
   ],
   "source": [
    "dataset.head()"
   ]
  },
  {
   "cell_type": "code",
   "execution_count": 4,
   "id": "783cb8c6",
   "metadata": {},
   "outputs": [
    {
     "name": "stdout",
     "output_type": "stream",
     "text": [
      "                Load    SrcTCPBase  tcp  udp  RST  INT  sHops   dTtl  \\\n",
      "0       0.000000e+00  1.490814e+09    0    1    0    0    0.0   63.0   \n",
      "1       0.000000e+00  1.490814e+09    0    1    0    0    0.0   63.0   \n",
      "2       0.000000e+00  1.490814e+09    0    1    0    0    0.0   63.0   \n",
      "3       0.000000e+00  1.490814e+09    0    1    0    0    0.0   63.0   \n",
      "4       0.000000e+00  1.490814e+09    0    0    0    0    6.0   64.0   \n",
      "...              ...           ...  ...  ...  ...  ...    ...    ...   \n",
      "851199  8.619034e+06  1.490814e+09    0    1    0    0   11.0   64.0   \n",
      "851200  3.068197e+06  1.490814e+09    0    1    0    0   11.0   64.0   \n",
      "851201  3.064397e+04  1.490814e+09    0    1    0    0    0.0  117.0   \n",
      "851202  3.179072e+04  1.490814e+09    0    1    0    0    0.0  117.0   \n",
      "851203  5.227891e+05  1.490814e+09    0    1    0    0   11.0   64.0   \n",
      "\n",
      "         e s        Loss  ...  dMeanPktSz  ACC  dHops  SrcPkts  DstWin  \\\n",
      "0                0     0  ...  154.000000    0    1.0        1   508.0   \n",
      "1                0     0  ...  154.000000    0    1.0        1   508.0   \n",
      "2                0     0  ...  264.000000    0    1.0        1   508.0   \n",
      "3                0     0  ...  141.000000    0    1.0        1   508.0   \n",
      "4                0     0  ...   98.000000    0    0.0        1   508.0   \n",
      "...            ...   ...  ...         ...  ...    ...      ...     ...   \n",
      "851199           0     0  ...  384.090912    0    0.0       73   508.0   \n",
      "851200           0     0  ...  171.000000    0    0.0       96   508.0   \n",
      "851201           0     0  ...   73.000000    0   11.0        2   508.0   \n",
      "851202           0     0  ...   73.000000    0   11.0        2   508.0   \n",
      "851203           0     0  ...  207.409088    0    0.0        3   508.0   \n",
      "\n",
      "        TotBytes   e d        REQ  DstLoss  Attack Type  \n",
      "0            243           0    0        0            0  \n",
      "1            243           0    0        0            0  \n",
      "2            340           0    0        0            0  \n",
      "3            217           0    0        0            0  \n",
      "4            200           0    0        0            0  \n",
      "...          ...         ...  ...      ...          ...  \n",
      "851199     94263           0    0        0            0  \n",
      "851200    134293           0    0        0            0  \n",
      "851201       445           0    0        0            0  \n",
      "851202       445           0    0        0            0  \n",
      "851203      4767           0    0        0            0  \n",
      "\n",
      "[851204 rows x 26 columns]\n"
     ]
    }
   ],
   "source": [
    "dataset = dataset.fillna(dataset.median())\n",
    "print(dataset)"
   ]
  },
  {
   "cell_type": "code",
   "execution_count": 5,
   "id": "e1c0e61a",
   "metadata": {},
   "outputs": [],
   "source": [
    "X = dataset.iloc[:,0:24].values\n",
    "y = dataset.iloc[:,25].values"
   ]
  },
  {
   "cell_type": "code",
   "execution_count": 6,
   "id": "fa0bd3e1",
   "metadata": {},
   "outputs": [],
   "source": [
    "#test and train split (30% for test)\n",
    "from sklearn.model_selection import train_test_split\n",
    "X_train, X_test, y_train, y_test = train_test_split(X, y, test_size = 0.80)"
   ]
  },
  {
   "cell_type": "code",
   "execution_count": 7,
   "id": "fe37dcd5",
   "metadata": {},
   "outputs": [],
   "source": [
    "#data normalization\n",
    "from sklearn.preprocessing import MinMaxScaler\n",
    "scaling = MinMaxScaler(feature_range=(-1,1)).fit(X_train)\n",
    "X_train = scaling.transform(X_train)\n",
    "X_test = scaling.transform(X_test)"
   ]
  },
  {
   "cell_type": "code",
   "execution_count": 8,
   "id": "5b5015c1",
   "metadata": {},
   "outputs": [],
   "source": [
    "from sklearn.svm import SVC\n",
    "model = SVC()"
   ]
  },
  {
   "cell_type": "code",
   "execution_count": 9,
   "id": "5e84fc82",
   "metadata": {},
   "outputs": [
    {
     "name": "stdout",
     "output_type": "stream",
     "text": [
      "Training time: 110.53243899345398s\n"
     ]
    }
   ],
   "source": [
    "import time\n",
    "start = time.time()\n",
    "model.fit(X_train, y_train)\n",
    "stop = time.time()\n",
    "print(f\"Training time: {stop - start}s\")"
   ]
  },
  {
   "cell_type": "code",
   "execution_count": 10,
   "id": "54d42255",
   "metadata": {},
   "outputs": [
    {
     "name": "stdout",
     "output_type": "stream",
     "text": [
      "Prediction time: 1569.6127078533173s\n"
     ]
    }
   ],
   "source": [
    "start = time.time()\n",
    "y_pred = model.predict(X_test)\n",
    "stop = time.time()\n",
    "print(f\"Prediction time: {stop - start}s\")"
   ]
  },
  {
   "cell_type": "code",
   "execution_count": 11,
   "id": "245472e4",
   "metadata": {},
   "outputs": [
    {
     "name": "stdout",
     "output_type": "stream",
     "text": [
      "[[ 22585    224    184   1009    630   1221    538]\n",
      " [    71  20976      0      2   4740      5     16]\n",
      " [     0      0 178714      0      0      0      0]\n",
      " [     0      0      0 213627      0      0      0]\n",
      " [     0      0      0      0 124859      0      0]\n",
      " [    14     11      0     11    441  72547   3860]\n",
      " [     0      0      0      3      0   6047  28629]]\n",
      "              precision    recall  f1-score   support\n",
      "\n",
      "           0     0.9963    0.8558    0.9207     26391\n",
      "           1     0.9889    0.8127    0.8922     25810\n",
      "           2     0.9990    1.0000    0.9995    178714\n",
      "           3     0.9952    1.0000    0.9976    213627\n",
      "           4     0.9555    1.0000    0.9773    124859\n",
      "           5     0.9089    0.9436    0.9259     76884\n",
      "           6     0.8664    0.8255    0.8455     34679\n",
      "\n",
      "    accuracy                         0.9721    680964\n",
      "   macro avg     0.9586    0.9197    0.9369    680964\n",
      "weighted avg     0.9724    0.9721    0.9716    680964\n",
      "\n",
      "0.9720587285084087\n"
     ]
    }
   ],
   "source": [
    "from sklearn.metrics import classification_report, confusion_matrix, accuracy_score\n",
    "print(confusion_matrix(y_test, y_pred))\n",
    "print(classification_report(y_test, y_pred, digits=4))\n",
    "print(accuracy_score(y_test, y_pred))"
   ]
  },
  {
   "cell_type": "code",
   "execution_count": null,
   "id": "52d7c44f",
   "metadata": {},
   "outputs": [],
   "source": []
  }
 ],
 "metadata": {
  "kernelspec": {
   "display_name": "Python 3",
   "language": "python",
   "name": "python3"
  },
  "language_info": {
   "codemirror_mode": {
    "name": "ipython",
    "version": 3
   },
   "file_extension": ".py",
   "mimetype": "text/x-python",
   "name": "python",
   "nbconvert_exporter": "python",
   "pygments_lexer": "ipython3",
   "version": "3.8.8"
  }
 },
 "nbformat": 4,
 "nbformat_minor": 5
}
