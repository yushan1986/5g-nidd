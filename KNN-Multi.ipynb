{
 "cells": [
  {
   "cell_type": "code",
   "execution_count": 11,
   "id": "ed659ca5",
   "metadata": {},
   "outputs": [],
   "source": [
    "import numpy as np\n",
    "import pandas as pd\n",
    "import matplotlib.pyplot as plt"
   ]
  },
  {
   "cell_type": "code",
   "execution_count": 12,
   "id": "10107ca2",
   "metadata": {},
   "outputs": [],
   "source": [
    "dataset = pd.read_csv(r'/Users/sehan/Documents/Dataset/Multi_New/top_25_multi.csv')"
   ]
  },
  {
   "cell_type": "code",
   "execution_count": 13,
   "id": "7d3b14be",
   "metadata": {},
   "outputs": [
    {
     "data": {
      "text/html": [
       "<div>\n",
       "<style scoped>\n",
       "    .dataframe tbody tr th:only-of-type {\n",
       "        vertical-align: middle;\n",
       "    }\n",
       "\n",
       "    .dataframe tbody tr th {\n",
       "        vertical-align: top;\n",
       "    }\n",
       "\n",
       "    .dataframe thead th {\n",
       "        text-align: right;\n",
       "    }\n",
       "</style>\n",
       "<table border=\"1\" class=\"dataframe\">\n",
       "  <thead>\n",
       "    <tr style=\"text-align: right;\">\n",
       "      <th></th>\n",
       "      <th>Load</th>\n",
       "      <th>SrcTCPBase</th>\n",
       "      <th>tcp</th>\n",
       "      <th>udp</th>\n",
       "      <th>RST</th>\n",
       "      <th>INT</th>\n",
       "      <th>sHops</th>\n",
       "      <th>dTtl</th>\n",
       "      <th>e s</th>\n",
       "      <th>Loss</th>\n",
       "      <th>...</th>\n",
       "      <th>dMeanPktSz</th>\n",
       "      <th>ACC</th>\n",
       "      <th>dHops</th>\n",
       "      <th>SrcPkts</th>\n",
       "      <th>DstWin</th>\n",
       "      <th>TotBytes</th>\n",
       "      <th>e d</th>\n",
       "      <th>REQ</th>\n",
       "      <th>DstLoss</th>\n",
       "      <th>Attack Type</th>\n",
       "    </tr>\n",
       "  </thead>\n",
       "  <tbody>\n",
       "    <tr>\n",
       "      <th>0</th>\n",
       "      <td>0.0</td>\n",
       "      <td>NaN</td>\n",
       "      <td>0</td>\n",
       "      <td>1</td>\n",
       "      <td>0</td>\n",
       "      <td>0</td>\n",
       "      <td>0.0</td>\n",
       "      <td>63.0</td>\n",
       "      <td>0</td>\n",
       "      <td>0</td>\n",
       "      <td>...</td>\n",
       "      <td>154.0</td>\n",
       "      <td>0</td>\n",
       "      <td>1.0</td>\n",
       "      <td>1</td>\n",
       "      <td>NaN</td>\n",
       "      <td>243</td>\n",
       "      <td>0</td>\n",
       "      <td>0</td>\n",
       "      <td>0</td>\n",
       "      <td>0</td>\n",
       "    </tr>\n",
       "    <tr>\n",
       "      <th>1</th>\n",
       "      <td>0.0</td>\n",
       "      <td>NaN</td>\n",
       "      <td>0</td>\n",
       "      <td>1</td>\n",
       "      <td>0</td>\n",
       "      <td>0</td>\n",
       "      <td>0.0</td>\n",
       "      <td>63.0</td>\n",
       "      <td>0</td>\n",
       "      <td>0</td>\n",
       "      <td>...</td>\n",
       "      <td>154.0</td>\n",
       "      <td>0</td>\n",
       "      <td>1.0</td>\n",
       "      <td>1</td>\n",
       "      <td>NaN</td>\n",
       "      <td>243</td>\n",
       "      <td>0</td>\n",
       "      <td>0</td>\n",
       "      <td>0</td>\n",
       "      <td>0</td>\n",
       "    </tr>\n",
       "    <tr>\n",
       "      <th>2</th>\n",
       "      <td>0.0</td>\n",
       "      <td>NaN</td>\n",
       "      <td>0</td>\n",
       "      <td>1</td>\n",
       "      <td>0</td>\n",
       "      <td>0</td>\n",
       "      <td>0.0</td>\n",
       "      <td>63.0</td>\n",
       "      <td>0</td>\n",
       "      <td>0</td>\n",
       "      <td>...</td>\n",
       "      <td>264.0</td>\n",
       "      <td>0</td>\n",
       "      <td>1.0</td>\n",
       "      <td>1</td>\n",
       "      <td>NaN</td>\n",
       "      <td>340</td>\n",
       "      <td>0</td>\n",
       "      <td>0</td>\n",
       "      <td>0</td>\n",
       "      <td>0</td>\n",
       "    </tr>\n",
       "    <tr>\n",
       "      <th>3</th>\n",
       "      <td>0.0</td>\n",
       "      <td>NaN</td>\n",
       "      <td>0</td>\n",
       "      <td>1</td>\n",
       "      <td>0</td>\n",
       "      <td>0</td>\n",
       "      <td>0.0</td>\n",
       "      <td>63.0</td>\n",
       "      <td>0</td>\n",
       "      <td>0</td>\n",
       "      <td>...</td>\n",
       "      <td>141.0</td>\n",
       "      <td>0</td>\n",
       "      <td>1.0</td>\n",
       "      <td>1</td>\n",
       "      <td>NaN</td>\n",
       "      <td>217</td>\n",
       "      <td>0</td>\n",
       "      <td>0</td>\n",
       "      <td>0</td>\n",
       "      <td>0</td>\n",
       "    </tr>\n",
       "    <tr>\n",
       "      <th>4</th>\n",
       "      <td>0.0</td>\n",
       "      <td>NaN</td>\n",
       "      <td>0</td>\n",
       "      <td>0</td>\n",
       "      <td>0</td>\n",
       "      <td>0</td>\n",
       "      <td>6.0</td>\n",
       "      <td>64.0</td>\n",
       "      <td>0</td>\n",
       "      <td>0</td>\n",
       "      <td>...</td>\n",
       "      <td>98.0</td>\n",
       "      <td>0</td>\n",
       "      <td>0.0</td>\n",
       "      <td>1</td>\n",
       "      <td>NaN</td>\n",
       "      <td>200</td>\n",
       "      <td>0</td>\n",
       "      <td>0</td>\n",
       "      <td>0</td>\n",
       "      <td>0</td>\n",
       "    </tr>\n",
       "  </tbody>\n",
       "</table>\n",
       "<p>5 rows × 26 columns</p>\n",
       "</div>"
      ],
      "text/plain": [
       "   Load  SrcTCPBase  tcp  udp  RST  INT  sHops  dTtl   e s        Loss  ...  \\\n",
       "0   0.0         NaN    0    1    0    0    0.0  63.0           0     0  ...   \n",
       "1   0.0         NaN    0    1    0    0    0.0  63.0           0     0  ...   \n",
       "2   0.0         NaN    0    1    0    0    0.0  63.0           0     0  ...   \n",
       "3   0.0         NaN    0    1    0    0    0.0  63.0           0     0  ...   \n",
       "4   0.0         NaN    0    0    0    0    6.0  64.0           0     0  ...   \n",
       "\n",
       "   dMeanPktSz  ACC  dHops  SrcPkts  DstWin  TotBytes   e d        REQ  \\\n",
       "0       154.0    0    1.0        1     NaN       243           0    0   \n",
       "1       154.0    0    1.0        1     NaN       243           0    0   \n",
       "2       264.0    0    1.0        1     NaN       340           0    0   \n",
       "3       141.0    0    1.0        1     NaN       217           0    0   \n",
       "4        98.0    0    0.0        1     NaN       200           0    0   \n",
       "\n",
       "   DstLoss  Attack Type  \n",
       "0        0            0  \n",
       "1        0            0  \n",
       "2        0            0  \n",
       "3        0            0  \n",
       "4        0            0  \n",
       "\n",
       "[5 rows x 26 columns]"
      ]
     },
     "execution_count": 13,
     "metadata": {},
     "output_type": "execute_result"
    }
   ],
   "source": [
    "dataset.head()"
   ]
  },
  {
   "cell_type": "code",
   "execution_count": 14,
   "id": "fee75858",
   "metadata": {},
   "outputs": [
    {
     "name": "stdout",
     "output_type": "stream",
     "text": [
      "                Load    SrcTCPBase  tcp  udp  RST  INT  sHops   dTtl  \\\n",
      "0       0.000000e+00  1.490814e+09    0    1    0    0    0.0   63.0   \n",
      "1       0.000000e+00  1.490814e+09    0    1    0    0    0.0   63.0   \n",
      "2       0.000000e+00  1.490814e+09    0    1    0    0    0.0   63.0   \n",
      "3       0.000000e+00  1.490814e+09    0    1    0    0    0.0   63.0   \n",
      "4       0.000000e+00  1.490814e+09    0    0    0    0    6.0   64.0   \n",
      "...              ...           ...  ...  ...  ...  ...    ...    ...   \n",
      "851199  8.619034e+06  1.490814e+09    0    1    0    0   11.0   64.0   \n",
      "851200  3.068197e+06  1.490814e+09    0    1    0    0   11.0   64.0   \n",
      "851201  3.064397e+04  1.490814e+09    0    1    0    0    0.0  117.0   \n",
      "851202  3.179072e+04  1.490814e+09    0    1    0    0    0.0  117.0   \n",
      "851203  5.227891e+05  1.490814e+09    0    1    0    0   11.0   64.0   \n",
      "\n",
      "         e s        Loss  ...  dMeanPktSz  ACC  dHops  SrcPkts  DstWin  \\\n",
      "0                0     0  ...  154.000000    0    1.0        1   508.0   \n",
      "1                0     0  ...  154.000000    0    1.0        1   508.0   \n",
      "2                0     0  ...  264.000000    0    1.0        1   508.0   \n",
      "3                0     0  ...  141.000000    0    1.0        1   508.0   \n",
      "4                0     0  ...   98.000000    0    0.0        1   508.0   \n",
      "...            ...   ...  ...         ...  ...    ...      ...     ...   \n",
      "851199           0     0  ...  384.090912    0    0.0       73   508.0   \n",
      "851200           0     0  ...  171.000000    0    0.0       96   508.0   \n",
      "851201           0     0  ...   73.000000    0   11.0        2   508.0   \n",
      "851202           0     0  ...   73.000000    0   11.0        2   508.0   \n",
      "851203           0     0  ...  207.409088    0    0.0        3   508.0   \n",
      "\n",
      "        TotBytes   e d        REQ  DstLoss  Attack Type  \n",
      "0            243           0    0        0            0  \n",
      "1            243           0    0        0            0  \n",
      "2            340           0    0        0            0  \n",
      "3            217           0    0        0            0  \n",
      "4            200           0    0        0            0  \n",
      "...          ...         ...  ...      ...          ...  \n",
      "851199     94263           0    0        0            0  \n",
      "851200    134293           0    0        0            0  \n",
      "851201       445           0    0        0            0  \n",
      "851202       445           0    0        0            0  \n",
      "851203      4767           0    0        0            0  \n",
      "\n",
      "[851204 rows x 26 columns]\n"
     ]
    }
   ],
   "source": [
    "dataset = dataset.fillna(dataset.median())\n",
    "print(dataset)"
   ]
  },
  {
   "cell_type": "code",
   "execution_count": 37,
   "id": "c682d40a",
   "metadata": {},
   "outputs": [],
   "source": [
    "dataset = dataset.drop(columns=['SrcBytes', 'ACC', 'dHops','FIN'])"
   ]
  },
  {
   "cell_type": "code",
   "execution_count": 15,
   "id": "6a516b85",
   "metadata": {},
   "outputs": [],
   "source": [
    "X = dataset.iloc[:,0:24].values\n",
    "y = dataset.iloc[:,25].values"
   ]
  },
  {
   "cell_type": "code",
   "execution_count": 16,
   "id": "86af37e1",
   "metadata": {},
   "outputs": [],
   "source": [
    "#test and train split (30% for test)\n",
    "from sklearn.model_selection import train_test_split\n",
    "X_train, X_test, y_train, y_test = train_test_split(X, y, test_size = 0.30, random_state = 0)"
   ]
  },
  {
   "cell_type": "code",
   "execution_count": 17,
   "id": "d3f5fc35",
   "metadata": {},
   "outputs": [],
   "source": [
    "#data normalization\n",
    "from sklearn.preprocessing import StandardScaler\n",
    "scaler = StandardScaler()\n",
    "X_train = scaler.fit_transform(X_train)\n",
    "X_test = scaler.fit_transform(X_test)"
   ]
  },
  {
   "cell_type": "code",
   "execution_count": 18,
   "id": "fcf6e806",
   "metadata": {},
   "outputs": [
    {
     "name": "stdout",
     "output_type": "stream",
     "text": [
      "Training time: 0.09027719497680664s\n"
     ]
    }
   ],
   "source": [
    "import time\n",
    "from sklearn.neighbors import KNeighborsClassifier\n",
    "classifier = KNeighborsClassifier(n_neighbors=5, leaf_size=100)\n",
    "start = time.time()\n",
    "classifier.fit(X_train, y_train)\n",
    "stop = time.time()\n",
    "print(f\"Training time: {stop - start}s\")"
   ]
  },
  {
   "cell_type": "code",
   "execution_count": 19,
   "id": "27e5a015",
   "metadata": {},
   "outputs": [
    {
     "name": "stdout",
     "output_type": "stream",
     "text": [
      "Prediction time: 5769.97722697258s\n"
     ]
    }
   ],
   "source": [
    "start = time.time()\n",
    "y_pred = classifier.predict(X_test)\n",
    "stop = time.time()\n",
    "print(f\"Prediction time: {stop - start}s\")"
   ]
  },
  {
   "cell_type": "code",
   "execution_count": 20,
   "id": "9c191a1e",
   "metadata": {},
   "outputs": [
    {
     "name": "stdout",
     "output_type": "stream",
     "text": [
      "[[ 9931     5     2     0    18    19     3]\n",
      " [    3  9679     0     0     6     2     9]\n",
      " [    0     0 67352     0     0     0     0]\n",
      " [    0     0     0 79851     0     0     0]\n",
      " [    0     0     0     0 46768     0     0]\n",
      " [    2     6     0     0    13 28514   147]\n",
      " [    0     0     0     0     0   382 12650]]\n",
      "              precision    recall  f1-score   support\n",
      "\n",
      "           0     0.9995    0.9953    0.9974      9978\n",
      "           1     0.9989    0.9979    0.9984      9699\n",
      "           2     1.0000    1.0000    1.0000     67352\n",
      "           3     1.0000    1.0000    1.0000     79851\n",
      "           4     0.9992    1.0000    0.9996     46768\n",
      "           5     0.9861    0.9941    0.9901     28682\n",
      "           6     0.9876    0.9707    0.9791     13032\n",
      "\n",
      "    accuracy                         0.9976    255362\n",
      "   macro avg     0.9959    0.9940    0.9949    255362\n",
      "weighted avg     0.9976    0.9976    0.9976    255362\n",
      "\n",
      "0.9975838221818438\n"
     ]
    }
   ],
   "source": [
    "from sklearn.metrics import classification_report, confusion_matrix, accuracy_score\n",
    "print(confusion_matrix(y_test, y_pred))\n",
    "print(classification_report(y_test, y_pred, digits=4))\n",
    "print(accuracy_score(y_test, y_pred))"
   ]
  },
  {
   "cell_type": "code",
   "execution_count": 10,
   "id": "edea84e1",
   "metadata": {},
   "outputs": [
    {
     "data": {
      "text/plain": [
       "{'algorithm': 'auto',\n",
       " 'leaf_size': 30,\n",
       " 'metric': 'minkowski',\n",
       " 'metric_params': None,\n",
       " 'n_jobs': None,\n",
       " 'n_neighbors': 5,\n",
       " 'p': 2,\n",
       " 'weights': 'uniform'}"
      ]
     },
     "execution_count": 10,
     "metadata": {},
     "output_type": "execute_result"
    }
   ],
   "source": [
    "classifier.get_params()"
   ]
  },
  {
   "cell_type": "code",
   "execution_count": null,
   "id": "bc4cf3e5",
   "metadata": {},
   "outputs": [],
   "source": []
  }
 ],
 "metadata": {
  "kernelspec": {
   "display_name": "Python 3",
   "language": "python",
   "name": "python3"
  },
  "language_info": {
   "codemirror_mode": {
    "name": "ipython",
    "version": 3
   },
   "file_extension": ".py",
   "mimetype": "text/x-python",
   "name": "python",
   "nbconvert_exporter": "python",
   "pygments_lexer": "ipython3",
   "version": "3.8.8"
  }
 },
 "nbformat": 4,
 "nbformat_minor": 5
}
